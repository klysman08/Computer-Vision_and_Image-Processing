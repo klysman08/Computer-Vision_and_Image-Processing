{
  "nbformat": 4,
  "nbformat_minor": 0,
  "metadata": {
    "colab": {
      "name": "Mobilenet.ipynb",
      "provenance": [],
      "collapsed_sections": []
    },
    "kernelspec": {
      "name": "python3",
      "display_name": "Python 3"
    },
    "accelerator": "GPU"
  },
  "cells": [
    {
      "cell_type": "markdown",
      "metadata": {
        "id": "2ErBvBp0Ph_j",
        "colab_type": "text"
      },
      "source": [
        "# Running Mobilnet classifer in Google Colab"
      ]
    },
    {
      "cell_type": "markdown",
      "metadata": {
        "id": "bbsNQ7LMOtlV",
        "colab_type": "text"
      },
      "source": [
        "\n"
      ]
    },
    {
      "cell_type": "code",
      "metadata": {
        "id": "oDPylSEKVfFt",
        "colab_type": "code",
        "colab": {}
      },
      "source": [
        "import numpy as np\n",
        "import keras\n",
        "from keras import backend as K\n",
        "from keras.layers.core import Dense\n",
        "from keras.optimizers import Adam\n",
        "from keras.metrics import categorical_crossentropy\n",
        "from keras.preprocessing.image import ImageDataGenerator\n",
        "from keras.preprocessing import image\n",
        "from keras.models import Model\n",
        "from keras.applications import imagenet_utils\n",
        "from sklearn.metrics import confusion_matrix\n",
        "import itertools\n",
        "import matplotlib.pyplot as plt\n",
        "%matplotlib inline\n"
      ],
      "execution_count": null,
      "outputs": []
    },
    {
      "cell_type": "code",
      "metadata": {
        "id": "fzVU7l8MX_k6",
        "colab_type": "code",
        "colab": {}
      },
      "source": [
        "mobile = keras.applications.mobilenet.MobileNet()"
      ],
      "execution_count": null,
      "outputs": []
    },
    {
      "cell_type": "markdown",
      "metadata": {
        "id": "00ai5f6FlUC0",
        "colab_type": "text"
      },
      "source": [
        "**Problem:**\n",
        "The second line of the code in this block below (originally from the Jupyter notebook)  defines the relative path (the  **MobileNet-inference-images** folder.) to the images on a local drive. This obviously a reference to a local drive doesn't work in a web shared COLAB file. \n",
        "Ideally, I would like to refer to a shared a google drive folder- such as t[his one ](https://drive.google.com/drive/folders/1HVkbHS_NTLZSYzdoYBQjCmJ6GHQ4PN_I?usp=sharing)\n",
        "\n",
        "I could  upload a file to the notebook using the \" `from google.colab  import files`\" code below, but then i run into subsequent errors when I try and create the variable **preprocessed_image** .  It also doesn't address the issue with needing a **MobileNet-inference-images** folder.\n",
        "\n"
      ]
    },
    {
      "cell_type": "code",
      "metadata": {
        "id": "un_kaZBCYQoa",
        "colab_type": "code",
        "colab": {}
      },
      "source": [
        "def prepare_image(file):\n",
        "    img_path = 'MobileNet-inference-images/'\n",
        "    img = image.load_img(img_path + file, target_size=(224, 224))\n",
        "    img_array = image.img_to_array(img)\n",
        "    img_array_expanded_dims = np.expand_dims(img_array, axis=0)\n",
        "    return keras.applications.mobilenet.preprocess_imput(img_array_expanded_dims)"
      ],
      "execution_count": null,
      "outputs": []
    },
    {
      "cell_type": "markdown",
      "metadata": {
        "id": "mCfDQWPd8fRq",
        "colab_type": "text"
      },
      "source": [
        "The first line of code in this block below also contains a reference to a file, that I want host in the [google drive shared folder]((https://drive.google.com/drive/folders/1HVkbHS_NTLZSYzdoYBQjCmJ6GHQ4PN_I?usp=sharing))\n"
      ]
    },
    {
      "cell_type": "code",
      "metadata": {
        "id": "ae11MC5agzDh",
        "colab_type": "code",
        "colab": {}
      },
      "source": [
        "preprocessed_image = prepare_image('American_Cam.jpg')\n",
        "predictions = mobile.predict(preprocessed_image)\n",
        "results =imagenet_utils.decode_predictions(predictions)\n",
        "results"
      ],
      "execution_count": null,
      "outputs": []
    }
  ]
}