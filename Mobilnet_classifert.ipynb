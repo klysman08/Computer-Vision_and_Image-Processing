{
  "nbformat": 4,
  "nbformat_minor": 0,
  "metadata": {
    "colab": {
      "name": "Mobilnet classifert.ipynb",
      "provenance": [],
      "collapsed_sections": [],
      "toc_visible": true
    },
    "kernelspec": {
      "name": "python3",
      "display_name": "Python 3"
    },
    "accelerator": "GPU"
  },
  "cells": [
    {
      "cell_type": "markdown",
      "metadata": {
        "id": "2ErBvBp0Ph_j",
        "colab_type": "text"
      },
      "source": [
        "# Running Mobilnet classifer in Google Colab"
      ]
    },
    {
      "cell_type": "markdown",
      "metadata": {
        "id": "bbsNQ7LMOtlV",
        "colab_type": "text"
      },
      "source": [
        "**Section 1**\n",
        "\n",
        "Goal : Convert [this Youtube tutorial](https://www.youtube.com/watch?v=OO4HD-1wRN8&t=190s) using a jupyter notebook into a Colab notebook\n",
        "\n",
        "**Current  problem is how to  replace current image folder and file references with links that works in shared Colab notebooks**\n",
        "\n",
        "Shareable link for Notebook is : [here(https://goo.gl/Fa7guf).\n"
      ]
    },
    {
      "cell_type": "code",
      "metadata": {
        "id": "oDPylSEKVfFt",
        "colab_type": "code",
        "colab": {
          "base_uri": "https://localhost:8080/",
          "height": 34
        },
        "outputId": "733b0e7b-9d26-4990-88a2-412c679f7f18"
      },
      "source": [
        "import numpy as np\n",
        "import keras\n",
        "from keras import backend as K\n",
        "from keras.layers.core import Dense\n",
        "from keras.optimizers import Adam\n",
        "from keras.metrics import categorical_crossentropy\n",
        "from keras.preprocessing.image import ImageDataGenerator\n",
        "from keras.preprocessing import image\n",
        "from keras.models import Model\n",
        "from keras.applications import imagenet_utils\n",
        "from sklearn.metrics import confusion_matrix\n",
        "import itertools\n",
        "import matplotlib.pyplot as plt\n",
        "%matplotlib inline\n"
      ],
      "execution_count": 1,
      "outputs": [
        {
          "output_type": "stream",
          "text": [
            "Using TensorFlow backend.\n"
          ],
          "name": "stderr"
        }
      ]
    },
    {
      "cell_type": "code",
      "metadata": {
        "id": "fzVU7l8MX_k6",
        "colab_type": "code",
        "colab": {
          "base_uri": "https://localhost:8080/",
          "height": 51
        },
        "outputId": "2392cd5f-f4cd-46dd-c3f7-409dacbbecab"
      },
      "source": [
        "mobile =keras.applications.mobilenet.MobileNet()"
      ],
      "execution_count": 2,
      "outputs": [
        {
          "output_type": "stream",
          "text": [
            "Downloading data from https://github.com/fchollet/deep-learning-models/releases/download/v0.6/mobilenet_1_0_224_tf.h5\n",
            "17227776/17225924 [==============================] - 2s 0us/step\n"
          ],
          "name": "stdout"
        }
      ]
    },
    {
      "cell_type": "markdown",
      "metadata": {
        "id": "00ai5f6FlUC0",
        "colab_type": "text"
      },
      "source": [
        "**Problem:**\n",
        "The second line of the code in this block below (originally from the Jupyter notebook)  defines the relative path (the  **MobileNet-inference-images** folder.) to the images on a local drive. This obviously a reference to a local drive doesn't work in a web shared COLAB file. \n",
        "Ideally, I would like to refer to a shared a google drive folder- such as t[his one ](https://drive.google.com/drive/folders/1HVkbHS_NTLZSYzdoYBQjCmJ6GHQ4PN_I?usp=sharing)\n",
        "\n",
        "I could  upload a file to the notebook using the \" `from google.colab  import files`\" code below, but then i run into subsequent errors when I try and create the variable **preprocessed_image** .  It also doesn't address the issue with needing a **MobileNet-inference-images** folder.\n",
        "\n"
      ]
    },
    {
      "cell_type": "code",
      "metadata": {
        "id": "un_kaZBCYQoa",
        "colab_type": "code",
        "colab": {}
      },
      "source": [
        "def prepare_image(file):\n",
        "    img_path = '/content/'\n",
        "    img = image.load_img(img_path + file, target_size=(224, 224))\n",
        "    img_array = image.img_to_array(img)\n",
        "    img_array_expanded_dims = np.expand_dims(img_array, axis=0)\n",
        "    return keras.applications.mobilenet.preprocess_input(img_array_expanded_dims)"
      ],
      "execution_count": 5,
      "outputs": []
    },
    {
      "cell_type": "markdown",
      "metadata": {
        "id": "mCfDQWPd8fRq",
        "colab_type": "text"
      },
      "source": [
        "The first line of code in this block below also contains a reference to a file, that I want host in the [google drive shared folder]((https://drive.google.com/drive/folders/1HVkbHS_NTLZSYzdoYBQjCmJ6GHQ4PN_I?usp=sharing))\n"
      ]
    },
    {
      "cell_type": "code",
      "metadata": {
        "id": "ae11MC5agzDh",
        "colab_type": "code",
        "colab": {
          "base_uri": "https://localhost:8080/",
          "height": 102
        },
        "outputId": "a444e0cc-f56f-4cc0-dd00-812df9313fe4"
      },
      "source": [
        "preprocessed_image = prepare_image('owl.jpg')\n",
        "predictions = mobile.predict(preprocessed_image)\n",
        "results =imagenet_utils.decode_predictions(predictions)\n",
        "results"
      ],
      "execution_count": 8,
      "outputs": [
        {
          "output_type": "execute_result",
          "data": {
            "text/plain": [
              "[[('n01622779', 'great_grey_owl', 0.89553463),\n",
              "  ('n02138441', 'meerkat', 0.017922746),\n",
              "  ('n01608432', 'kite', 0.0106942635),\n",
              "  ('n02259212', 'leafhopper', 0.008424474),\n",
              "  ('n02018795', 'bustard', 0.005866767)]]"
            ]
          },
          "metadata": {
            "tags": []
          },
          "execution_count": 8
        }
      ]
    }
  ]
}